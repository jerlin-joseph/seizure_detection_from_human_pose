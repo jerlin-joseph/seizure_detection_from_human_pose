{
 "cells": [
  {
   "cell_type": "markdown",
   "id": "66b3b263-eef1-4b50-a1af-90f8d37d8eb2",
   "metadata": {},
   "source": [
    "The code groups frames by video, validates that each video has exactly one transition between classes, and balances class counts by trimming excess frames from the larger class near the transition point, ensuring an equal number of \"normal\" and \"seizure\" frames."
   ]
  },
  {
   "cell_type": "code",
   "execution_count": 1,
   "id": "baf646b2-5c10-49b1-9683-89874e0673cd",
   "metadata": {},
   "outputs": [],
   "source": [
    "import pandas as pd\n",
    "import numpy as np"
   ]
  },
  {
   "cell_type": "markdown",
   "id": "8f20755e-9d6b-4c5e-a7f4-3d53148fd635",
   "metadata": {},
   "source": [
    "#### Load Data"
   ]
  },
  {
   "cell_type": "code",
   "execution_count": 2,
   "id": "38665199-9ef2-4e5f-b82b-f9fa29bcdb9a",
   "metadata": {},
   "outputs": [],
   "source": [
    "df_time = pd.read_pickle('data/df_time_find_best.pkl')"
   ]
  },
  {
   "cell_type": "code",
   "execution_count": null,
   "id": "b637da0d-8bf5-45ea-a01d-ec59b2b305ad",
   "metadata": {},
   "outputs": [],
   "source": [
    "df_time"
   ]
  },
  {
   "cell_type": "markdown",
   "id": "97c38728-521b-4040-958b-5cf659a3e14e",
   "metadata": {},
   "source": [
    "#### Balance the data"
   ]
  },
  {
   "cell_type": "code",
   "execution_count": 4,
   "id": "bad271a8-bd1a-4e57-9810-0adc4e82d02a",
   "metadata": {},
   "outputs": [
    {
     "name": "stdout",
     "output_type": "stream",
     "text": [
      "Successfully processed 72 videos\n",
      "\n",
      "Errors encountered:\n",
      "VID_ID 79611U00: Found 0 transitions, expected 1\n"
     ]
    }
   ],
   "source": [
    "import pandas as pd\n",
    "import numpy as np\n",
    "\n",
    "def validate_sequence(group):\n",
    "    \"\"\"Validate that the sequence has exactly one transition between classes\"\"\"\n",
    "    transitions = (group['class'] != group['class'].shift()).sum()\n",
    "    if transitions != 2:  # One transition creates two changes in the diff\n",
    "        return False, f\"Found {transitions//2} transitions, expected 1\"\n",
    "    \n",
    "    return True, None\n",
    "\n",
    "def balance_video_sequence(df_time):\n",
    "    \"\"\"Balance normal and seizure frames while preserving temporal order\"\"\"\n",
    "    balanced_data = []\n",
    "    error_videos = []\n",
    "    \n",
    "    for vid_id, group in df_time.groupby('vid_id'):\n",
    "        try:\n",
    "            # Basic validation\n",
    "            if len(group) == 0:\n",
    "                error_videos.append((vid_id, \"Empty group\"))\n",
    "                continue\n",
    "                \n",
    "            # Validate sequence\n",
    "            is_valid, error_msg = validate_sequence(group)\n",
    "            if not is_valid:\n",
    "                error_videos.append((vid_id, error_msg))\n",
    "                continue\n",
    "            \n",
    "            # Split by class and preserve original index\n",
    "            group = group.reset_index(drop=True)  # Reset index for this group\n",
    "            nml_group = group[group['class'] == 'nml']\n",
    "            sz_group = group[group['class'] == 'sz']\n",
    "            \n",
    "            nml_count = len(nml_group)\n",
    "            sz_count = len(sz_group)\n",
    "            \n",
    "            if nml_count == 0 or sz_count == 0:\n",
    "                error_videos.append((vid_id, \"Missing one class\"))\n",
    "                continue\n",
    "            \n",
    "            # Find transition point\n",
    "            transition_idx = sz_group.index[0]  # First seizure frame\n",
    "            \n",
    "            # Balance based on class counts\n",
    "            if nml_count > sz_count:\n",
    "                # Take the last normal frames before seizure\n",
    "                nml_before_transition = nml_group[nml_group.index < transition_idx]\n",
    "                if len(nml_before_transition) < sz_count:\n",
    "                    error_videos.append((vid_id, \"Not enough normal frames before transition\"))\n",
    "                    continue\n",
    "                    \n",
    "                nml_balanced_group = nml_before_transition.tail(sz_count)\n",
    "                balanced_group = pd.concat([nml_balanced_group, sz_group], axis=0)\n",
    "                \n",
    "            elif sz_count > nml_count:\n",
    "                # Take the first seizure frames after transition\n",
    "                sz_balanced_group = sz_group.head(nml_count)\n",
    "                balanced_group = pd.concat([nml_group, sz_balanced_group], axis=0)\n",
    "                \n",
    "            else:\n",
    "                balanced_group = group\n",
    "            \n",
    "            # Verify balance\n",
    "            final_nml_count = len(balanced_group[balanced_group['class'] == 'nml'])\n",
    "            final_sz_count = len(balanced_group[balanced_group['class'] == 'sz'])\n",
    "            if final_nml_count != final_sz_count:\n",
    "                error_videos.append((vid_id, f\"Balance failed: nml={final_nml_count}, sz={final_sz_count}\"))\n",
    "                continue\n",
    "                \n",
    "            balanced_data.append(balanced_group)\n",
    "            \n",
    "        except Exception as e:\n",
    "            error_videos.append((vid_id, f\"Error: {str(e)}\"))\n",
    "            continue\n",
    "    \n",
    "    if balanced_data:\n",
    "        df_time_balanced = pd.concat(balanced_data, axis=0).reset_index(drop=True)\n",
    "        print(f\"Successfully processed {len(balanced_data)} videos\")\n",
    "    else:\n",
    "        df_time_balanced = pd.DataFrame()\n",
    "        print(\"No videos were successfully balanced\")\n",
    "        \n",
    "    if error_videos:\n",
    "        print(\"\\nErrors encountered:\")\n",
    "        for vid_id, error in error_videos:\n",
    "            print(f\"VID_ID {vid_id}: {error}\")\n",
    "    \n",
    "    return df_time_balanced\n",
    "\n",
    "# Usage\n",
    "df_time_balanced = balance_video_sequence(df_time)"
   ]
  },
  {
   "cell_type": "code",
   "execution_count": 5,
   "id": "6b9076df-30cf-489d-a7e7-47bb0f7f9486",
   "metadata": {},
   "outputs": [
    {
     "name": "stdout",
     "output_type": "stream",
     "text": [
      "DataFrame saved to 'data/df_time_balanced.pkl'\n"
     ]
    }
   ],
   "source": [
    "df_time_balanced.to_pickle('data/df_time_balanced.pkl')\n",
    "\n",
    "print(\"DataFrame saved to 'data/df_time_balanced.pkl'\")"
   ]
  },
  {
   "cell_type": "markdown",
   "id": "5297ca9f-2d3f-4008-bc15-ca2033c56647",
   "metadata": {},
   "source": [
    "#### Analyze Balancing"
   ]
  },
  {
   "cell_type": "code",
   "execution_count": 6,
   "id": "a9de10e8-5a1e-4023-94a3-9e10a8814519",
   "metadata": {},
   "outputs": [],
   "source": [
    "def analyze_dataframe_differences(df_time, df_time_balanced):\n",
    "    \"\"\"\n",
    "    Analyze and report differences between original and balanced dataframes\n",
    "    Returns a DataFrame with the analysis results\n",
    "    \"\"\"\n",
    "    # Per-video statistics\n",
    "    vid_stats = []\n",
    "    for vid_id in df_time['vid_id'].unique():\n",
    "        orig_vid = df_time[df_time['vid_id'] == vid_id]\n",
    "        bal_vid = df_time_balanced[df_time_balanced['vid_id'] == vid_id]\n",
    "        \n",
    "        # Skip if video not in balanced df\n",
    "        if len(bal_vid) == 0:\n",
    "            continue\n",
    "            \n",
    "        orig_nml = len(orig_vid[orig_vid['class'] == 'nml'])\n",
    "        orig_sz = len(orig_vid[orig_vid['class'] == 'sz'])\n",
    "        bal_nml = len(bal_vid[bal_vid['class'] == 'nml'])\n",
    "        bal_sz = len(bal_vid[bal_vid['class'] == 'sz'])\n",
    "        \n",
    "        vid_stat = {\n",
    "            'vid_id': vid_id,\n",
    "            'original_frames': len(orig_vid),\n",
    "            'balanced_frames': len(bal_vid),\n",
    "            'frames_removed': len(orig_vid) - len(bal_vid),\n",
    "            'original_nml': orig_nml,\n",
    "            'original_sz': orig_sz,\n",
    "            'balanced_nml': bal_nml,\n",
    "            'balanced_sz': bal_sz,\n",
    "            'reduction_percentage': ((len(orig_vid) - len(bal_vid)) / len(orig_vid) * 100)\n",
    "        }\n",
    "        vid_stats.append(vid_stat)\n",
    "    \n",
    "    # Create DataFrame from video statistics\n",
    "    df_stats = pd.DataFrame(vid_stats)\n",
    "    \n",
    "    # Add total row\n",
    "    total_row = {\n",
    "        'vid_id': 'TOTAL',\n",
    "        'original_frames': df_stats['original_frames'].sum(),\n",
    "        'balanced_frames': df_stats['balanced_frames'].sum(),\n",
    "        'frames_removed': df_stats['frames_removed'].sum(),\n",
    "        'original_nml': df_stats['original_nml'].sum(),\n",
    "        'original_sz': df_stats['original_sz'].sum(),\n",
    "        'balanced_nml': df_stats['balanced_nml'].sum(),\n",
    "        'balanced_sz': df_stats['balanced_sz'].sum(),\n",
    "        'reduction_percentage': ((df_stats['frames_removed'].sum() / df_stats['original_frames'].sum()) * 100)\n",
    "    }\n",
    "    \n",
    "    # Append total row to DataFrame\n",
    "    df_stats = pd.concat([df_stats, pd.DataFrame([total_row])], ignore_index=True)\n",
    "    \n",
    "    return df_stats\n",
    "\n",
    "# Usage\n",
    "df_differences = analyze_dataframe_differences(df_time, df_time_balanced)"
   ]
  },
  {
   "cell_type": "code",
   "execution_count": null,
   "id": "414c0f81-9fb0-4454-9cd8-f08e29763581",
   "metadata": {},
   "outputs": [],
   "source": [
    "df_differences"
   ]
  },
  {
   "cell_type": "code",
   "execution_count": null,
   "id": "b55f8426-7a97-4dfb-b1c4-000ee96b025b",
   "metadata": {},
   "outputs": [],
   "source": []
  }
 ],
 "metadata": {
  "kernelspec": {
   "display_name": "Python 3 (ipykernel)",
   "language": "python",
   "name": "python3"
  },
  "language_info": {
   "codemirror_mode": {
    "name": "ipython",
    "version": 3
   },
   "file_extension": ".py",
   "mimetype": "text/x-python",
   "name": "python",
   "nbconvert_exporter": "python",
   "pygments_lexer": "ipython3",
   "version": "3.10.13"
  }
 },
 "nbformat": 4,
 "nbformat_minor": 5
}
